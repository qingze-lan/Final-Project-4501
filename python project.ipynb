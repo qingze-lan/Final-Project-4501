{
 "cells": [
  {
   "cell_type": "markdown",
   "metadata": {},
   "source": [
    "# Understanding Hired Rides in NYC\n",
    "\n"
   ]
  },
  {
   "cell_type": "markdown",
   "metadata": {},
   "source": [
    "## Project Setup"
   ]
  },
  {
   "cell_type": "code",
   "execution_count": 1,
   "metadata": {},
   "outputs": [],
   "source": [
    "# All import statements needed for the project\n",
    "\n",
    "import math\n",
    "\n",
    "import re\n",
    "import bs4\n",
    "import matplotlib.pyplot as plt\n",
    "import pandas as pd\n",
    "import requests\n",
    "import sqlalchemy as db\n",
    "import pyarrow.parquet as pq\n",
    "import geopandas as gpd\n",
    "import geopy.distance\n",
    "import os\n",
    "import sqlalchemy as db\n",
    "import numpy as np\n",
    "import scipy\n",
    "from keplergl import KeplerGl\n",
    "import seaborn as sns"
   ]
  },
  {
   "cell_type": "code",
   "execution_count": 2,
   "metadata": {},
   "outputs": [],
   "source": [
    "# All constraints we need\n",
    "\n",
    "TAXI_URL = \"https://www1.nyc.gov/site/tlc/about/tlc-trip-record-data.page\"\n",
    "UBER_CSV = \"uber_rides_sample.csv\"\n",
    "TAXI_ZONES_PATH = 'taxi_zones.shp'\n",
    "WEATHER_CSVS = [\"2009_weather.csv\", \"2010_weather.csv\", \"2011_weather.csv\", \n",
    "               \"2012_weather.csv\", \"2013_weather.csv\", \"2014_weather.csv\", \"2015_weather.csv\"]\n",
    "CLEAN_TAXI_DATA_PATH = 'Clean_Taxi_Data.csv'\n",
    "\n",
    "NEW_YORK_BOX_COORDS = ((40.560445, -74.242330), (40.908524, -73.717047))\n",
    "\n",
    "DATABASE_URL = \"sqlite:///project.db\"\n",
    "DATABASE_SCHEMA_FILE = \"schema.sql\"\n",
    "QUERY_DIRECTORY = \"queries\"\n",
    "\n",
    "# Dict to normalize the column names\n",
    "NORMALIZE_DICT = {\n",
    "    'VendorID': 'vendor_id',\n",
    "    'tpep_pickup_datetime': 'pickup_datetime',\n",
    "    'tpep_dropoff_datetime': 'dropoff_datetime',\n",
    "    'RatecodeID': 'rate_code',\n",
    "    'Trip_Pickup_DateTime': 'pickup_datetime',\n",
    "    'Trip_Dropoff_DateTime': 'dropoff_datetime',\n",
    "    'Start_Lon': 'pickup_longitude',\n",
    "    'Start_Lat': 'pickup_latitude',\n",
    "    'End_Lon': 'dropoff_longitude',\n",
    "    'End_Lat': 'dropoff_latitude',\n",
    "    'Fare_Amt': 'fare_amount',\n",
    "    'Tip_Amt': 'tip_amount',\n",
    "    'Tolls_Amt': 'tolls_amount',\n",
    "    'Total_Amt': 'total_amount',\n",
    "    'pickup_latitude': 'pickup_latitude',\n",
    "    'pickup_longitude': 'pickup_longitude',\n",
    "    'dropoff_latitude': 'dropoff_latitude',\n",
    "    'dropoff_longitude': 'dropoff_longitude'\n",
    "}\n",
    "\n",
    "# Features used in taxi dataset\n",
    "TAXI_FEATURES = ['pickup_datetime','pickup_latitude', 'pickup_longitude', 'dropoff_latitude', 'dropoff_longitude', 'tip_amount']\n",
    "# Features used in uber dataset\n",
    "UBER_FEATURES = ['pickup_datetime','pickup_latitude', 'pickup_longitude', 'dropoff_latitude', 'dropoff_longitude']\n",
    "# Features used in weather dataset\n",
    "WEATHER_FEATURES = ['DATE','HourlyWindSpeed','HourlyPrecipitation']\n",
    "# Features used in sunrise/sunset data\n",
    "SUN_FEATURES = ['DATE','Sunrise','Sunset']\n",
    "\n",
    "# Sample size for each taxi dataset\n",
    "SAMPLE_SIZE = (round(200000/78), 200000-78*round(200000/78))\n",
    "\n",
    "# Define the radius of the Earth in kilometers\n",
    "R_EARTH = 6371 \n",
    "\n",
    "# BBOX setting\n",
    "LGA_BBOX = [-73.889473,40.766102,-73.857630,40.782806,'LGA']\n",
    "JFK_BBOX = [-73.826978,40.618945,-73.741319,40.673388,'JFK']\n",
    "EWR_BBOX = [-74.199343,40.668791,-74.150248,40.712069,'EWR']"
   ]
  },
  {
   "cell_type": "code",
   "execution_count": 3,
   "metadata": {},
   "outputs": [
    {
     "name": "stderr",
     "output_type": "stream",
     "text": [
      "<ipython-input-3-ad86acdb1b79>:3: UserWarning: Geometry is in a geographic CRS. Results from 'centroid' are likely incorrect. Use 'GeoSeries.to_crs()' to re-project geometries to a projected CRS before this operation.\n",
      "\n",
      "  Taxi_zones['longitude'] = Taxi_zones.centroid.x\n",
      "<ipython-input-3-ad86acdb1b79>:4: UserWarning: Geometry is in a geographic CRS. Results from 'centroid' are likely incorrect. Use 'GeoSeries.to_crs()' to re-project geometries to a projected CRS before this operation.\n",
      "\n",
      "  Taxi_zones['latitude'] = Taxi_zones.centroid.y\n"
     ]
    }
   ],
   "source": [
    "# Load the texi zones data\n",
    "Taxi_zones = gpd.read_file(TAXI_ZONES_PATH).to_crs(4326)\n",
    "Taxi_zones['longitude'] = Taxi_zones.centroid.x  \n",
    "Taxi_zones['latitude'] = Taxi_zones.centroid.y"
   ]
  },
  {
   "cell_type": "markdown",
   "metadata": {},
   "source": [
    "## Part 1: Data Preprocessing"
   ]
  },
  {
   "cell_type": "markdown",
   "metadata": {},
   "source": [
    "In part 1, we will do the following data preprocessing steps:\n",
    "1. Download the taxi data from 2009-01 to 2015-06 from the NYC Taxi & Limousine Commission website programmatically.\n",
    "1. Add a new column to the taxi and uber datasets representing the distance of the trip. We calculate the distance using latitude and longitude of the pick-up location and drop-off location.\n",
    "3. Load and clean the taxi data, uber data, and the weather data"
   ]
  },
  {
   "cell_type": "markdown",
   "metadata": {},
   "source": [
    "### Calculating distance\n",
    "We can use the Haversine formula to calculate the distance. The formula is:\n",
    "$$d = 2rarcsin(\\sqrt{sin^{2}(\\frac{\\phi_{2}-\\phi_{1}}{2})+cos(\\phi_{1})cos(\\phi_{2})sin^{2}(\\frac{\\lambda_{2}-\\lambda_{1}}{2})}$$\n",
    "where $r$ is the radius of earth, $\\phi$ is the latitude and $\\lambda$ is the longitude."
   ]
  },
  {
   "cell_type": "code",
   "execution_count": 4,
   "metadata": {},
   "outputs": [],
   "source": [
    "def calculate_distance(from_coord, to_coord):\n",
    "    # Convert the latitude and longitude of each point to radians\n",
    "    lat1, lon1 = map(math.radians, from_coord)\n",
    "    lat2, lon2 = map(math.radians, to_coord)\n",
    "    \n",
    "    # Calculate the difference between the latitudes and longitudes of the two points in radians\n",
    "    lat_diff = lat2 - lat1\n",
    "    lon_diff = lon2 - lon1\n",
    "    \n",
    "    # Calculate the central angle of the two points using the haversine formula\n",
    "    a = math.sin(lat_diff / 2)**2 + math.cos(lat1) * math.cos(lat2) * math.sin(lon_diff / 2)**2\n",
    "    c = 2 * math.atan2(math.sqrt(a), math.sqrt(1 - a))\n",
    "    \n",
    "    # Calculate the geodesic distance between the two points using the central angle and the radius of the Earth\n",
    "    dist = R_EARTH * c\n",
    "    return dist"
   ]
  },
  {
   "cell_type": "markdown",
   "metadata": {},
   "source": [
    "Then we write a function to add a 'distance' column to the dataframe using the above function."
   ]
  },
  {
   "cell_type": "code",
   "execution_count": 5,
   "metadata": {},
   "outputs": [],
   "source": [
    "def convert_coord(row):\n",
    "    \"\"\"Tool function.\"\"\"\n",
    "    \n",
    "    from_coord = (row['pickup_latitude'], row['pickup_longitude'])\n",
    "    to_coord = (row['dropoff_latitude'], row['dropoff_longitude'])\n",
    "    return from_coord, to_coord\n",
    "\n",
    "def add_distance_column(dataframe):\n",
    "    dataframe['distance'] = dataframe.apply(lambda row: calculate_distance(convert_coord(row)[0], convert_coord(row)[1]), axis=1)"
   ]
  },
  {
   "cell_type": "markdown",
   "metadata": {},
   "source": [
    "### Processing Taxi Data\n",
    "\n",
    "Firstly, we need to download all the data from the website. To do this, we parse all the urls needed for the taxi data."
   ]
  },
  {
   "cell_type": "code",
   "execution_count": 6,
   "metadata": {},
   "outputs": [],
   "source": [
    "def find_taxi_csv_urls():\n",
    "    response = requests.get(TAXI_URL)\n",
    "    html = response.content\n",
    "    soup = bs4.BeautifulSoup(html, 'html.parser')\n",
    "    prefix = 'yellow_tripdata_20'\n",
    "    pattern = fr'{prefix}09|{prefix}1[0-4]|{prefix}15-0[1-6]'\n",
    "    urls = []\n",
    "    for a in soup.find_all(\"a\", href = True):\n",
    "        url_text = a.get(\"href\")\n",
    "        matches = re.findall(pattern, url_text)\n",
    "        if matches:\n",
    "            urls.append(url_text)\n",
    "    return urls\n",
    "\n",
    "urls = find_taxi_csv_urls()"
   ]
  },
  {
   "cell_type": "markdown",
   "metadata": {},
   "source": [
    "This function is used to download/load a singal dataset using the url and performs the cleaning. We first check if the file has already been download. In this case, we simply load the file from the disk and convert it to a dataframe. To be consistent with the uber dataset, we replace all the location IDs with the explicit latitude and longitude information and remove the ID columns. For those records with invalid location ID or invalid location information (outside New York City), we remove them from the dataset. Meanwhile, we add a column showing the distance of the trip.\n",
    "\n",
    "Moreover, we normalize the column names of the dataset. In particular, columns with location information are named the same as those in uber dataset. To conduct a fair comparison, we sample each dataset to make the entire dataset have equal size with the uber dataset."
   ]
  },
  {
   "cell_type": "code",
   "execution_count": 7,
   "metadata": {},
   "outputs": [],
   "source": [
    "def get_and_clean_month_taxi_data(url):\n",
    "    # Get the file name\n",
    "    file_name = url.split('/')[-1]\n",
    "\n",
    "    # Download only once\n",
    "    if os.path.exists(file_name)==False:\n",
    "        print(f'Downloading {file_name}')\n",
    "        file = requests.get(url)\n",
    "        with open(file_name , 'wb') as f:\n",
    "            f.write(file.content)\n",
    "    else:\n",
    "        print(f'{file_name} already downloaded.')\n",
    "\n",
    "    # Read the parquet file and transform it into a dataframe\n",
    "    data = pq.read_table(file_name)\n",
    "    data_df = data.to_pandas()\n",
    "\n",
    "    # If ID is used to record the location, replace the ID with explicit latitude and longitude\n",
    "    if 'DOLocationID' in data_df.columns:\n",
    "        data_df['pickup_latitude'] = data_df['PULocationID'].map(Taxi_zones['latitude'], na_action = 'ignore')\n",
    "        data_df['pickup_longitude'] = data_df['PULocationID'].map(Taxi_zones['longitude'], na_action = 'ignore')\n",
    "        data_df['dropoff_latitude'] = data_df['DOLocationID'].map(Taxi_zones['latitude'], na_action = 'ignore')\n",
    "        data_df['dropoff_longitude'] = data_df['DOLocationID'].map(Taxi_zones['longitude'], na_action = 'ignore')\n",
    "        \n",
    "        #Remove the ID columns\n",
    "        data_df = data_df.drop(['DOLocationID', 'PULocationID'], axis=1)\n",
    "\n",
    "        # Remove records with invalid ID\n",
    "        data_df = data_df.dropna(subset=['pickup_latitude', 'pickup_longitude', 'dropoff_latitude', 'dropoff_longitude'])\n",
    "\n",
    "        #Remove records with invalid location\n",
    "        data_df = data_df[data_df.pickup_latitude.between(NEW_YORK_BOX_COORDS[0][0], NEW_YORK_BOX_COORDS[1][0])\\\n",
    "                    & data_df.pickup_longitude.between(NEW_YORK_BOX_COORDS[0][1], NEW_YORK_BOX_COORDS[1][1])\\\n",
    "                    & data_df.dropoff_latitude.between(NEW_YORK_BOX_COORDS[0][0], NEW_YORK_BOX_COORDS[1][0])\\\n",
    "                    & data_df.dropoff_longitude.between(NEW_YORK_BOX_COORDS[0][1], NEW_YORK_BOX_COORDS[1][1])]\n",
    "\n",
    "    # Normalize the column names    \n",
    "    data_df = data_df.rename(columns = NORMALIZE_DICT)\n",
    "    \n",
    "    # Remove useless columns\n",
    "    data_df = data_df[TAXI_FEATURES]\n",
    "    \n",
    "    # Removing invalid data points\n",
    "    data_df = data_df[(data_df['tip_amount'] >= 0)]\n",
    "\n",
    "    # Sample the dataset\n",
    "    data_df = data_df.sample(SAMPLE_SIZE[1] if file_name=='yellow_tripdata_2015-06.parquet' else SAMPLE_SIZE[0]) \n",
    "    \n",
    "    # Normalize data\n",
    "    data_df['pickup_datetime'] = pd.to_datetime(data_df['pickup_datetime'])\n",
    "    data_type = 'float32'\n",
    "    data_df = data_df.astype({'pickup_longitude':data_type,'pickup_latitude':data_type,'dropoff_longitude':data_type,'dropoff_latitude':data_type,'tip_amount':data_type})\n",
    "\n",
    "    return data_df"
   ]
  },
  {
   "cell_type": "code",
   "execution_count": 8,
   "metadata": {},
   "outputs": [],
   "source": [
    "def get_and_clean_taxi_data():\n",
    "    all_taxi_dataframes = []\n",
    "    \n",
    "    all_csv_urls = find_taxi_csv_urls()\n",
    "    for csv_url in all_csv_urls:\n",
    "        dataframe = get_and_clean_month_taxi_data(csv_url)\n",
    "        add_distance_column(dataframe)\n",
    "        all_taxi_dataframes.append(dataframe)\n",
    "        \n",
    "    # create one gigantic dataframe with data from every month needed\n",
    "    taxi_data = pd.concat(all_taxi_dataframes)\n",
    "    taxi_data.to_csv(CLEAN_TAXI_DATA_PATH)\n",
    "    return taxi_data"
   ]
  },
  {
   "cell_type": "markdown",
   "metadata": {},
   "source": [
    "### Processing Uber Data\n",
    "In this section, we pre-process the Uber Data. We perform similar operations to clean the location information. Some useless features are removed from the dataset. The names of the rest are stored in *UBER_FEATURES*. "
   ]
  },
  {
   "cell_type": "code",
   "execution_count": 9,
   "metadata": {},
   "outputs": [],
   "source": [
    "def load_and_clean_uber_data(csv_file):\n",
    "    data_df = pd.read_csv(csv_file)\n",
    "    \n",
    "    # Remove records with invalid location\n",
    "    data_df = data_df.dropna(subset=['pickup_latitude', 'pickup_longitude', 'dropoff_latitude', 'dropoff_longitude'])\n",
    "    \n",
    "    # Remove useless columns\n",
    "    data_df = data_df[UBER_FEATURES]\n",
    "    \n",
    "    #Remove records with invalid location\n",
    "    data_df = data_df[data_df.pickup_latitude.between(NEW_YORK_BOX_COORDS[0][0], NEW_YORK_BOX_COORDS[1][0])\\\n",
    "                & data_df.pickup_longitude.between(NEW_YORK_BOX_COORDS[0][1], NEW_YORK_BOX_COORDS[1][1])\\\n",
    "                & data_df.dropoff_latitude.between(NEW_YORK_BOX_COORDS[0][0], NEW_YORK_BOX_COORDS[1][0])\\\n",
    "                & data_df.dropoff_longitude.between(NEW_YORK_BOX_COORDS[0][1], NEW_YORK_BOX_COORDS[1][1])]\n",
    "    \n",
    "    # Normalizing data \n",
    "    data_df['pickup_datetime'] = pd.to_datetime(data_df['pickup_datetime'])\n",
    "    data_type = 'float32'\n",
    "    data_df = data_df.astype({'pickup_longitude':data_type,'pickup_latitude':data_type,'dropoff_longitude':data_type,'dropoff_latitude':data_type})\n",
    "    \n",
    "    return data_df"
   ]
  },
  {
   "cell_type": "code",
   "execution_count": 10,
   "metadata": {},
   "outputs": [],
   "source": [
    "def get_uber_data():\n",
    "    uber_dataframe = load_and_clean_uber_data(UBER_CSV)\n",
    "    add_distance_column(uber_dataframe)\n",
    "    \n",
    "    return uber_dataframe"
   ]
  },
  {
   "cell_type": "markdown",
   "metadata": {},
   "source": [
    "### Processing Weather Data\n",
    "\n",
    "Then we deal with the weather data. The original data is grouped by hour. To have a more comprehensive exploration, we further create a new dataset grouping the weather data by day, "
   ]
  },
  {
   "cell_type": "code",
   "execution_count": 11,
   "metadata": {},
   "outputs": [],
   "source": [
    "def clean_month_weather_data_hourly(csv_file):\n",
    "    \"\"\"Data by hour.\"\"\"\n",
    "    \n",
    "    # Load data\n",
    "    data_df = pd.read_csv(csv_file, low_memory=False)\n",
    "    \n",
    "    # Remove useless columns\n",
    "    data_df = data_df[WEATHER_FEATURES]\n",
    "    \n",
    "    # Normalize data\n",
    "    data_df['DATE'] = pd.to_datetime(data_df['DATE'])\n",
    "    data_df['HourlyPrecipitation'] = pd.to_numeric(data_df['HourlyPrecipitation'], errors='coerce')\n",
    "    \n",
    "    # Remove missing values\n",
    "    data_df = data_df.dropna(subset=['HourlyWindSpeed'])\n",
    "    \n",
    "    # Fill 0 to NAs in the precipitation data\n",
    "    data_df[\"HourlyPrecipitation\"] = data_df[\"HourlyPrecipitation\"].fillna(0)\n",
    "    \n",
    "    data_type = 'float32'\n",
    "    data_df = data_df.astype({'HourlyWindSpeed': data_type, 'HourlyPrecipitation': data_type})\n",
    "\n",
    "    return data_df\n"
   ]
  },
  {
   "cell_type": "code",
   "execution_count": 12,
   "metadata": {},
   "outputs": [],
   "source": [
    "def clean_month_weather_data_daily(csv_file):\n",
    "    \"\"\"Data by day.\"\"\"\n",
    "    \n",
    "    data_df = pd.read_csv(csv_file, low_memory=False)\n",
    "    \n",
    "    data_df = data_df[WEATHER_FEATURES]\n",
    "    \n",
    "    # Normalize data\n",
    "    data_df['DATE'] = pd.to_datetime(data_df['DATE'])\n",
    "    data_df['HourlyPrecipitation'] = pd.to_numeric(data_df['HourlyPrecipitation'], errors='coerce')\n",
    "    \n",
    "    # Fill 0 to NAs in the precipitation data\n",
    "    data_df[\"HourlyPrecipitation\"] = data_df[\"HourlyPrecipitation\"].fillna(0)\n",
    "    \n",
    "    # Group by hour and take the mean of the windspeed and sum of the precipitation\n",
    "    data_df['DATE'] = data_df['DATE'].dt.date\n",
    "    data_df = data_df.groupby('DATE', as_index=False).agg(\n",
    "        {'HourlyWindSpeed': np.mean,\n",
    "        'HourlyPrecipitation': np.sum}\n",
    "    )\n",
    "\n",
    "    \n",
    "    data_df = data_df.rename(columns={'HourlyWindSpeed': 'DailyWindSpeed', 'HourlyPrecipitation': 'DailyPrecipitation'})\n",
    "    data_df['DATE'] = pd.to_datetime(data_df['DATE'])\n",
    "    \n",
    "    return data_df\n",
    "    "
   ]
  },
  {
   "cell_type": "code",
   "execution_count": 13,
   "metadata": {},
   "outputs": [],
   "source": [
    "def load_and_clean_weather_data():\n",
    "    \"\"\"Process all weather data\"\"\"\n",
    "    \n",
    "    hourly_dataframes = []\n",
    "    daily_dataframes = []\n",
    "    \n",
    "    for csv_file in WEATHER_CSVS:\n",
    "        hourly_dataframe = clean_month_weather_data_hourly(csv_file)\n",
    "        daily_dataframe = clean_month_weather_data_daily(csv_file)\n",
    "        hourly_dataframes.append(hourly_dataframe)\n",
    "        daily_dataframes.append(daily_dataframe)\n",
    "        \n",
    "    # create two dataframes with hourly & daily data from every month\n",
    "    hourly_data = pd.concat(hourly_dataframes)\n",
    "    daily_data = pd.concat(daily_dataframes)\n",
    "    return hourly_data, daily_data"
   ]
  },
  {
   "cell_type": "markdown",
   "metadata": {},
   "source": [
    "### Process All Data\n",
    "\n",
    "We pre-process and store all the data for later use."
   ]
  },
  {
   "cell_type": "code",
   "execution_count": 14,
   "metadata": {},
   "outputs": [
    {
     "name": "stdout",
     "output_type": "stream",
     "text": [
      "Downloading yellow_tripdata_2015-01.parquet\n",
      "Downloading yellow_tripdata_2015-02.parquet\n",
      "Downloading yellow_tripdata_2015-03.parquet\n",
      "Downloading yellow_tripdata_2015-04.parquet\n",
      "Downloading yellow_tripdata_2015-05.parquet\n",
      "Downloading yellow_tripdata_2015-06.parquet\n",
      "Downloading yellow_tripdata_2014-01.parquet\n",
      "Downloading yellow_tripdata_2014-02.parquet\n",
      "Downloading yellow_tripdata_2014-03.parquet\n",
      "Downloading yellow_tripdata_2014-04.parquet\n",
      "Downloading yellow_tripdata_2014-05.parquet\n",
      "Downloading yellow_tripdata_2014-06.parquet\n",
      "Downloading yellow_tripdata_2014-07.parquet\n",
      "Downloading yellow_tripdata_2014-08.parquet\n",
      "Downloading yellow_tripdata_2014-09.parquet\n",
      "Downloading yellow_tripdata_2014-10.parquet\n",
      "Downloading yellow_tripdata_2014-11.parquet\n",
      "Downloading yellow_tripdata_2014-12.parquet\n",
      "Downloading yellow_tripdata_2013-01.parquet\n",
      "Downloading yellow_tripdata_2013-02.parquet\n",
      "Downloading yellow_tripdata_2013-03.parquet\n",
      "Downloading yellow_tripdata_2013-04.parquet\n",
      "Downloading yellow_tripdata_2013-05.parquet\n",
      "Downloading yellow_tripdata_2013-06.parquet\n",
      "Downloading yellow_tripdata_2013-07.parquet\n",
      "Downloading yellow_tripdata_2013-08.parquet\n",
      "Downloading yellow_tripdata_2013-09.parquet\n",
      "Downloading yellow_tripdata_2013-10.parquet\n",
      "Downloading yellow_tripdata_2013-11.parquet\n",
      "Downloading yellow_tripdata_2013-12.parquet\n",
      "Downloading yellow_tripdata_2012-01.parquet\n",
      "Downloading yellow_tripdata_2012-02.parquet\n",
      "Downloading yellow_tripdata_2012-03.parquet\n",
      "Downloading yellow_tripdata_2012-04.parquet\n",
      "Downloading yellow_tripdata_2012-05.parquet\n",
      "Downloading yellow_tripdata_2012-06.parquet\n",
      "Downloading yellow_tripdata_2012-07.parquet\n",
      "Downloading yellow_tripdata_2012-08.parquet\n",
      "Downloading yellow_tripdata_2012-09.parquet\n",
      "Downloading yellow_tripdata_2012-10.parquet\n",
      "Downloading yellow_tripdata_2012-11.parquet\n",
      "Downloading yellow_tripdata_2012-12.parquet\n",
      "Downloading yellow_tripdata_2011-01.parquet\n",
      "Downloading yellow_tripdata_2011-02.parquet\n",
      "Downloading yellow_tripdata_2011-03.parquet\n",
      "Downloading yellow_tripdata_2011-04.parquet\n",
      "Downloading yellow_tripdata_2011-05.parquet\n",
      "Downloading yellow_tripdata_2011-06.parquet\n",
      "Downloading yellow_tripdata_2011-07.parquet\n",
      "Downloading yellow_tripdata_2011-08.parquet\n",
      "Downloading yellow_tripdata_2011-09.parquet\n",
      "Downloading yellow_tripdata_2011-10.parquet\n",
      "Downloading yellow_tripdata_2011-11.parquet\n",
      "Downloading yellow_tripdata_2011-12.parquet\n",
      "Downloading yellow_tripdata_2010-01.parquet\n",
      "Downloading yellow_tripdata_2010-02.parquet\n",
      "Downloading yellow_tripdata_2010-03.parquet\n",
      "Downloading yellow_tripdata_2010-04.parquet\n",
      "Downloading yellow_tripdata_2010-05.parquet\n",
      "Downloading yellow_tripdata_2010-06.parquet\n",
      "Downloading yellow_tripdata_2010-07.parquet\n",
      "Downloading yellow_tripdata_2010-08.parquet\n",
      "Downloading yellow_tripdata_2010-09.parquet\n",
      "Downloading yellow_tripdata_2010-10.parquet\n",
      "Downloading yellow_tripdata_2010-11.parquet\n",
      "Downloading yellow_tripdata_2010-12.parquet\n",
      "Downloading yellow_tripdata_2009-01.parquet\n",
      "Downloading yellow_tripdata_2009-02.parquet\n",
      "Downloading yellow_tripdata_2009-03.parquet\n",
      "Downloading yellow_tripdata_2009-04.parquet\n",
      "Downloading yellow_tripdata_2009-05.parquet\n",
      "Downloading yellow_tripdata_2009-06.parquet\n",
      "Downloading yellow_tripdata_2009-07.parquet\n",
      "Downloading yellow_tripdata_2009-08.parquet\n",
      "Downloading yellow_tripdata_2009-09.parquet\n",
      "Downloading yellow_tripdata_2009-10.parquet\n",
      "Downloading yellow_tripdata_2009-11.parquet\n",
      "Downloading yellow_tripdata_2009-12.parquet\n"
     ]
    }
   ],
   "source": [
    "taxi_data = get_and_clean_taxi_data()\n",
    "uber_data = get_uber_data()\n",
    "hourly_weather_data, daily_weather_data = load_and_clean_weather_data()"
   ]
  },
  {
   "cell_type": "markdown",
   "metadata": {},
   "source": [
    "## Part 2: Storing Cleaned Data\n",
    "\n",
    "In part 2, we store all the data obtained in part 1 to a database. We keep the data types the same."
   ]
  },
  {
   "cell_type": "code",
   "execution_count": 15,
   "metadata": {},
   "outputs": [],
   "source": [
    "engine = db.create_engine(DATABASE_URL)"
   ]
  },
  {
   "cell_type": "markdown",
   "metadata": {},
   "source": [
    "We create four related table in the database and save the table schema locally in the file _schema.sql_."
   ]
  },
  {
   "cell_type": "code",
   "execution_count": 16,
   "metadata": {},
   "outputs": [],
   "source": [
    "TAXI_TRIPS_SCHEMA = \"\"\"\n",
    "    CREATE TABLE IF NOT EXISTS taxi_trips (\n",
    "    id INTEGER PRIMARY KEY AUTOINCREMENT,\n",
    "    pickup_datetime DATE,\n",
    "    pickup_longitude FLOAT32,\n",
    "    pickup_latitude FLOAT32,\n",
    "    dropoff_longitude FLOAT32,\n",
    "    dropoff_latitude FLOAT32,\n",
    "    tip_amount FLOAT32,\n",
    "    distance FLOAT32\n",
    ");\n",
    "\"\"\"\n",
    "\n",
    "UBER_TRIPS_SCHEMA = \"\"\"\n",
    "    CREATE TABLE IF NOT EXISTS uber_trips (\n",
    "    id INTEGER PRIMARY KEY AUTOINCREMENT,\n",
    "    pickup_datetime DATE,\n",
    "    pickup_longitude FLOAT32,\n",
    "    pickup_latitude FLOAT32,\n",
    "    dropoff_longitude FLOAT32,\n",
    "    dropoff_latitude FLOAT32,\n",
    "    distance FLOAT32\n",
    ");\n",
    "\"\"\"\n",
    "\n",
    "HOURLY_WEATHER_SCHEMA = \"\"\"\n",
    "    CREATE TABLE IF NOT EXISTS hourly_weather (\n",
    "    id INTEGER PRIMARY KEY AUTOINCREMENT,\n",
    "    DATE DATE,\n",
    "    HourlyWindSpeed FLOAT32,\n",
    "    HourlyPrecipitation FLOAT32\n",
    ");\n",
    "\"\"\"\n",
    "\n",
    "DAILY_WEATHER_SCHEMA = \"\"\"\n",
    "    CREATE TABLE IF NOT EXISTS daily_weather (\n",
    "    id INTEGER PRIMARY KEY AUTOINCREMENT,\n",
    "    DATE DATE,\n",
    "    DailyWindSpeed FLOAT32,\n",
    "    DailyPrecipitation FLOAT32\n",
    ");\n",
    "\"\"\""
   ]
  },
  {
   "cell_type": "code",
   "execution_count": 17,
   "metadata": {},
   "outputs": [],
   "source": [
    "# Create schema files\n",
    "with open(DATABASE_SCHEMA_FILE, 'w') as f:\n",
    "    f.write(TAXI_TRIPS_SCHEMA)\n",
    "    f.write(UBER_TRIPS_SCHEMA)\n",
    "    f.write(HOURLY_WEATHER_SCHEMA)\n",
    "    f.write(DAILY_WEATHER_SCHEMA)\n",
    "    "
   ]
  },
  {
   "cell_type": "code",
   "execution_count": 18,
   "metadata": {},
   "outputs": [],
   "source": [
    "# Create tables using the schema files.\n",
    "with engine.connect() as connection:\n",
    "    with open(DATABASE_SCHEMA_FILE, 'r') as f:\n",
    "        queries = f.read().split(';')\n",
    "        for query in queries:\n",
    "            connection.execute(db.text(query))"
   ]
  },
  {
   "cell_type": "markdown",
   "metadata": {},
   "source": [
    "### Add Data to Database\n",
    "\n",
    "Add corresponding data to the database"
   ]
  },
  {
   "cell_type": "code",
   "execution_count": 19,
   "metadata": {},
   "outputs": [],
   "source": [
    "def write_dataframes_to_table(table_to_df_dict):\n",
    "    for table, df in table_to_df_dict.items():\n",
    "        df.to_sql(table, engine, if_exists='append', index=False)"
   ]
  },
  {
   "cell_type": "code",
   "execution_count": 20,
   "metadata": {},
   "outputs": [],
   "source": [
    "table_to_df_dict = {\n",
    "    \"taxi_trips\": taxi_data,\n",
    "    \"uber_trips\": uber_data,\n",
    "    \"hourly_weather\": hourly_weather_data,\n",
    "    \"daily_weather\": daily_weather_data,\n",
    "}"
   ]
  },
  {
   "cell_type": "code",
   "execution_count": 21,
   "metadata": {},
   "outputs": [],
   "source": [
    "write_dataframes_to_table(table_to_df_dict)"
   ]
  },
  {
   "cell_type": "markdown",
   "metadata": {},
   "source": [
    "## Part 3: Understanding the Data"
   ]
  },
  {
   "cell_type": "markdown",
   "metadata": {},
   "source": [
    "Now that we store all the data in a database, we can make queries in order to understand the data."
   ]
  },
  {
   "cell_type": "code",
   "execution_count": 22,
   "metadata": {},
   "outputs": [],
   "source": [
    "def write_query_to_file(query, outfile):\n",
    "    with open(QUERY_DIRECTORY + outfile, \"w\") as f:\n",
    "        f.write(query)"
   ]
  },
  {
   "cell_type": "markdown",
   "metadata": {},
   "source": [
    "### Query 1\n",
    "\n",
    "For 01-2009 through 06-2015, what hour of the day was the most popular to take a\n",
    "Yellow Taxi?"
   ]
  },
  {
   "cell_type": "code",
   "execution_count": 23,
   "metadata": {},
   "outputs": [],
   "source": [
    "QUERY_1 = \"\"\"\n",
    "    SELECT strftime('%H', pickup_datetime) AS time, COUNT(*) AS count\n",
    "    FROM taxi_trips\n",
    "    GROUP BY time\n",
    "    ORDER BY count DESC;\n",
    "\"\"\"\n"
   ]
  },
  {
   "cell_type": "code",
   "execution_count": 24,
   "metadata": {},
   "outputs": [
    {
     "data": {
      "text/plain": [
       "[('19', 12435),\n",
       " ('18', 12023),\n",
       " ('20', 11658),\n",
       " ('21', 11369),\n",
       " ('22', 11254),\n",
       " ('23', 9954),\n",
       " ('14', 9817),\n",
       " ('17', 9674),\n",
       " ('13', 9618),\n",
       " ('12', 9559),\n",
       " ('15', 9440),\n",
       " ('09', 9221),\n",
       " ('08', 8985),\n",
       " ('11', 8896),\n",
       " ('10', 8744),\n",
       " ('16', 8219),\n",
       " ('00', 7803),\n",
       " ('07', 7140),\n",
       " ('01', 5800),\n",
       " ('02', 4420),\n",
       " ('06', 4074),\n",
       " ('03', 3112),\n",
       " ('04', 2386),\n",
       " ('05', 1835)]"
      ]
     },
     "execution_count": 24,
     "metadata": {},
     "output_type": "execute_result"
    }
   ],
   "source": [
    "engine.execute(QUERY_1).fetchall()"
   ]
  },
  {
   "cell_type": "code",
   "execution_count": 25,
   "metadata": {},
   "outputs": [],
   "source": [
    "write_query_to_file(QUERY_1, \"most_popular_hour.sql\")"
   ]
  },
  {
   "cell_type": "markdown",
   "metadata": {},
   "source": [
    "### Query 2\n",
    "\n",
    "For the same time frame, what day of the week was the most popular to take an Uber?\n"
   ]
  },
  {
   "cell_type": "code",
   "execution_count": 26,
   "metadata": {},
   "outputs": [],
   "source": [
    "QUERY_2 = \"\"\"\n",
    "    SELECT strftime('%w', pickup_datetime) AS time, COUNT(*) AS count\n",
    "    FROM uber_trips\n",
    "    GROUP BY time\n",
    "    ORDER BY count DESC;\n",
    "\"\"\""
   ]
  },
  {
   "cell_type": "code",
   "execution_count": 27,
   "metadata": {},
   "outputs": [
    {
     "data": {
      "text/plain": [
       "[('5', 30166),\n",
       " ('6', 29599),\n",
       " ('4', 29338),\n",
       " ('3', 28328),\n",
       " ('2', 27526),\n",
       " ('0', 25834),\n",
       " ('1', 24681)]"
      ]
     },
     "execution_count": 27,
     "metadata": {},
     "output_type": "execute_result"
    }
   ],
   "source": [
    "engine.execute(QUERY_2).fetchall()"
   ]
  },
  {
   "cell_type": "code",
   "execution_count": 28,
   "metadata": {},
   "outputs": [],
   "source": [
    "write_query_to_file(QUERY_2, \"most_popular_day.sql\")"
   ]
  },
  {
   "cell_type": "markdown",
   "metadata": {},
   "source": [
    "### Query 3\n",
    "\n",
    "What is the 95% percentile of distance traveled for all hired trips during July 2013?\n"
   ]
  },
  {
   "cell_type": "code",
   "execution_count": 29,
   "metadata": {},
   "outputs": [],
   "source": [
    "QUERY_3 = \"\"\"\n",
    "    WITH hired_trips AS (\n",
    "        SELECT pickup_datetime, distance\n",
    "        FROM taxi_trips\n",
    "        WHERE pickup_datetime BETWEEN '2013-07-01' AND '2013-08-01'\n",
    "        UNION ALL\n",
    "        SELECT pickup_datetime, distance\n",
    "        FROM uber_trips\n",
    "        WHERE pickup_datetime BETWEEN '2013-07-01' AND '2013-08-01'\n",
    "    )\n",
    "    SELECT distance\n",
    "    FROM hired_trips\n",
    "    ORDER BY distance ASC\n",
    "    LIMIT 1\n",
    "    OFFSET (SELECT COUNT(*) FROM hired_trips) * 95 / 100 - 1;\n",
    "\"\"\"\n"
   ]
  },
  {
   "cell_type": "code",
   "execution_count": 30,
   "metadata": {},
   "outputs": [
    {
     "data": {
      "text/plain": [
       "[(23.034391788471975,)]"
      ]
     },
     "execution_count": 30,
     "metadata": {},
     "output_type": "execute_result"
    }
   ],
   "source": [
    "engine.execute(QUERY_3).fetchall()"
   ]
  },
  {
   "cell_type": "code",
   "execution_count": 31,
   "metadata": {},
   "outputs": [],
   "source": [
    "write_query_to_file(QUERY_3, \"95%_percentile_distance.sql\")"
   ]
  },
  {
   "cell_type": "markdown",
   "metadata": {},
   "source": [
    "### Query 4\n",
    "\n",
    "What were the top 10 days with the highest number of hired rides for 2009, and what\n",
    "was the average distance for each day?"
   ]
  },
  {
   "cell_type": "code",
   "execution_count": 32,
   "metadata": {},
   "outputs": [],
   "source": [
    "QUERY_4 = \"\"\"\n",
    "    WITH hired_trips AS (\n",
    "        SELECT pickup_datetime, distance\n",
    "        FROM taxi_trips\n",
    "        WHERE pickup_datetime BETWEEN '2009-01-01' AND '2010-01-01'\n",
    "        UNION ALL\n",
    "        SELECT pickup_datetime, distance\n",
    "        FROM uber_trips\n",
    "        WHERE pickup_datetime BETWEEN '2009-01-01' AND '2010-01-01'\n",
    "    )\n",
    "    SELECT date(pickup_datetime) AS time, AVG(distance) AS avg_distance, COUNT(*) AS count\n",
    "    FROM hired_trips\n",
    "    GROUP BY time\n",
    "    ORDER BY count DESC\n",
    "    LIMIT 10;\n",
    "\"\"\"\n"
   ]
  },
  {
   "cell_type": "code",
   "execution_count": 33,
   "metadata": {},
   "outputs": [
    {
     "data": {
      "text/plain": [
       "[('2009-12-11', 3.630619146217639, 236),\n",
       " ('2009-02-20', 2.783413451473398, 227),\n",
       " ('2009-04-04', 3.0636344086658185, 221),\n",
       " ('2009-02-12', 2.740752741633371, 218),\n",
       " ('2009-11-05', 4.027002040459544, 216),\n",
       " ('2009-10-23', 3.106935674467926, 214),\n",
       " ('2009-08-14', 3.402809243287893, 213),\n",
       " ('2009-01-31', 2.978511011839767, 213),\n",
       " ('2009-12-18', 3.27061967781808, 212),\n",
       " ('2009-12-05', 2.7230583709753033, 212)]"
      ]
     },
     "execution_count": 33,
     "metadata": {},
     "output_type": "execute_result"
    }
   ],
   "source": [
    "engine.execute(QUERY_4).fetchall()"
   ]
  },
  {
   "cell_type": "code",
   "execution_count": 34,
   "metadata": {},
   "outputs": [],
   "source": [
    "write_query_to_file(QUERY_4, \"top_10_days.sql\")"
   ]
  },
  {
   "cell_type": "markdown",
   "metadata": {},
   "source": [
    "### Query 5\n",
    "\n",
    "Which 10 days in 2014 were the windiest on average, and how many hired trips were\n",
    "made on those days?"
   ]
  },
  {
   "cell_type": "code",
   "execution_count": 35,
   "metadata": {},
   "outputs": [],
   "source": [
    "QUERY_5 = \"\"\"\n",
    "    SELECT date(pickup_datetime) AS date, COUNT(*) AS count\n",
    "    FROM (\n",
    "        SELECT pickup_datetime\n",
    "        FROM taxi_trips\n",
    "        UNION ALL\n",
    "        SELECT pickup_datetime\n",
    "        FROM uber_trips\n",
    "    )\n",
    "    GROUP BY date\n",
    "    HAVING date IN (\n",
    "        SELECT date(DATE)\n",
    "        FROM daily_weather\n",
    "        WHERE DATE BETWEEN '2014-01-01' AND '2015-01-01'\n",
    "        ORDER BY DailyWindSpeed DESC\n",
    "        LIMIT 10\n",
    "    )\n",
    "\"\"\"\n"
   ]
  },
  {
   "cell_type": "code",
   "execution_count": 36,
   "metadata": {},
   "outputs": [
    {
     "data": {
      "text/plain": [
       "[('2014-01-02', 121),\n",
       " ('2014-01-07', 159),\n",
       " ('2014-02-13', 121),\n",
       " ('2014-03-13', 211),\n",
       " ('2014-03-26', 173),\n",
       " ('2014-03-29', 204),\n",
       " ('2014-11-02', 146),\n",
       " ('2014-12-07', 174),\n",
       " ('2014-12-08', 161),\n",
       " ('2014-12-09', 152)]"
      ]
     },
     "execution_count": 36,
     "metadata": {},
     "output_type": "execute_result"
    }
   ],
   "source": [
    "engine.execute(QUERY_5).fetchall()"
   ]
  },
  {
   "cell_type": "code",
   "execution_count": 37,
   "metadata": {},
   "outputs": [],
   "source": [
    "write_query_to_file(QUERY_5, \"top_10_windiest_days.sql\")"
   ]
  },
  {
   "cell_type": "markdown",
   "metadata": {},
   "source": [
    "### Query 6\n",
    "\n",
    "During Hurricane Sandy in NYC (Oct 29-30, 2012), plus the week leading up and the\n",
    "week after, how many trips were taken each hour, and for each hour, how much\n",
    "precipitation did NYC receive and what was the sustained wind speed?"
   ]
  },
  {
   "cell_type": "code",
   "execution_count": 38,
   "metadata": {},
   "outputs": [],
   "source": [
    "QUERY_6 = \"\"\"\n",
    "    WITH hired_trips AS (\n",
    "        SELECT strftime('%Y-%m-%d %H', pickup_datetime) AS date\n",
    "        FROM taxi_trips\n",
    "        WHERE pickup_datetime BETWEEN '2012-10-22' AND '2012-11-07'\n",
    "        UNION ALL\n",
    "        SELECT  strftime('%Y-%m-%d %H', pickup_datetime)\n",
    "        FROM uber_trips\n",
    "        WHERE pickup_datetime BETWEEN '2012-10-22' AND '2012-11-07'\n",
    "    )\n",
    "    SELECT strftime('%Y-%m-%d %H', hourly_weather.DATE) AS wea_date, COALESCE(COUNT(hired_trips.DATE), 0) AS count, HourlyPrecipitation, HourlyWindSpeed\n",
    "    FROM hourly_weather\n",
    "    LEFT JOIN hired_trips\n",
    "    ON wea_date = hired_trips.DATE\n",
    "    WHERE wea_date BETWEEN '2012-10-22' AND '2012-11-07'\n",
    "    GROUP BY wea_date\n",
    "\"\"\"\n"
   ]
  },
  {
   "cell_type": "code",
   "execution_count": 39,
   "metadata": {},
   "outputs": [
    {
     "data": {
      "text/plain": [
       "[('2012-10-22 00', 2, 0.0, 7.0),\n",
       " ('2012-10-22 01', 0, 0.0, 5.0),\n",
       " ('2012-10-22 02', 2, 0.0, 7.0),\n",
       " ('2012-10-22 03', 1, 0.0, 0.0),\n",
       " ('2012-10-22 04', 0, 0.0, 0.0),\n",
       " ('2012-10-22 05', 3, 0.0, 0.0),\n",
       " ('2012-10-22 06', 5, 0.0, 5.0),\n",
       " ('2012-10-22 07', 8, 0.0, 3.0),\n",
       " ('2012-10-22 08', 8, 0.0, 3.0),\n",
       " ('2012-10-22 09', 11, 0.0, 5.0),\n",
       " ('2012-10-22 12', 10, 0.0, 11.0),\n",
       " ('2012-10-22 14', 4, 0.0, 7.0),\n",
       " ('2012-10-22 15', 2, 0.0, 6.0),\n",
       " ('2012-10-22 16', 10, 0.0, 3.0),\n",
       " ('2012-10-22 17', 8, 0.0, 7.0),\n",
       " ('2012-10-22 18', 12, 0.0, 5.0),\n",
       " ('2012-10-22 19', 8, 0.0, 5.0),\n",
       " ('2012-10-22 20', 8, 0.0, 3.0),\n",
       " ('2012-10-22 21', 6, 0.0, 0.0),\n",
       " ('2012-10-22 22', 12, 0.0, 3.0),\n",
       " ('2012-10-22 23', 2, 0.0, 3.0),\n",
       " ('2012-10-23 00', 4, 0.0, 3.0),\n",
       " ('2012-10-23 01', 2, 0.0, 0.0),\n",
       " ('2012-10-23 02', 0, 0.0, 3.0),\n",
       " ('2012-10-23 03', 2, 0.0, 0.0),\n",
       " ('2012-10-23 04', 1, 0.0, 3.0),\n",
       " ('2012-10-23 05', 3, 0.0, 0.0),\n",
       " ('2012-10-23 06', 5, 0.0, 0.0),\n",
       " ('2012-10-23 07', 13, 0.0, 0.0),\n",
       " ('2012-10-23 08', 14, 0.0, 0.0),\n",
       " ('2012-10-23 09', 13, 0.0, 3.0),\n",
       " ('2012-10-23 10', 11, 0.0, 0.0),\n",
       " ('2012-10-23 11', 10, 0.0, 3.0),\n",
       " ('2012-10-23 12', 5, 0.0, 0.0),\n",
       " ('2012-10-23 16', 7, 0.0, 3.0),\n",
       " ('2012-10-23 18', 7, 0.0, 5.0),\n",
       " ('2012-10-23 19', 13, 0.0, 0.0),\n",
       " ('2012-10-23 20', 10, 0.019999999552965164, 0.0),\n",
       " ('2012-10-23 21', 9, 0.0, 5.0),\n",
       " ('2012-10-23 22', 12, 0.009999999776482582, 0.0),\n",
       " ('2012-10-23 23', 8, 0.0, 5.0),\n",
       " ('2012-10-24 00', 4, 0.0, 3.0),\n",
       " ('2012-10-24 01', 2, 0.0, 6.0),\n",
       " ('2012-10-24 02', 20, 0.0, 5.0),\n",
       " ('2012-10-24 03', 1, 0.0, 7.0),\n",
       " ('2012-10-24 04', 1, 0.0, 7.0),\n",
       " ('2012-10-24 05', 3, 0.0, 6.0),\n",
       " ('2012-10-24 06', 8, 0.0, 5.0),\n",
       " ('2012-10-24 07', 18, 0.0, 5.0),\n",
       " ('2012-10-24 08', 5, 0.0, 0.0),\n",
       " ('2012-10-24 09', 20, 0.0, 0.0),\n",
       " ('2012-10-24 10', 6, 0.0, 7.0),\n",
       " ('2012-10-24 11', 7, 0.0, 7.0),\n",
       " ('2012-10-24 12', 24, 0.0, 8.0),\n",
       " ('2012-10-24 13', 7, 0.0, 8.0),\n",
       " ('2012-10-24 14', 12, 0.0, 6.0),\n",
       " ('2012-10-24 15', 12, 0.0, 7.0),\n",
       " ('2012-10-24 16', 7, 0.0, 8.0),\n",
       " ('2012-10-24 17', 11, 0.0, 5.0),\n",
       " ('2012-10-24 18', 12, 0.0, 7.0),\n",
       " ('2012-10-24 19', 10, 0.0, 8.0),\n",
       " ('2012-10-24 20', 20, 0.0, 0.0),\n",
       " ('2012-10-24 21', 32, 0.0, 3.0),\n",
       " ('2012-10-24 22', 18, 0.0, 5.0),\n",
       " ('2012-10-24 23', 9, 0.0, 0.0),\n",
       " ('2012-10-25 00', 22, 0.0, 6.0),\n",
       " ('2012-10-25 01', 4, 0.0, 3.0),\n",
       " ('2012-10-25 02', 12, 0.0, 3.0),\n",
       " ('2012-10-25 03', 2, 0.0, 6.0),\n",
       " ('2012-10-25 04', 2, 0.0, 6.0),\n",
       " ('2012-10-25 05', 3, 0.0, 0.0),\n",
       " ('2012-10-25 06', 6, 0.0, 5.0),\n",
       " ('2012-10-25 07', 5, 0.0, 6.0),\n",
       " ('2012-10-25 08', 13, 0.0, 5.0),\n",
       " ('2012-10-25 09', 10, 0.0, 3.0),\n",
       " ('2012-10-25 10', 8, 0.0, 6.0),\n",
       " ('2012-10-25 11', 8, 0.0, 0.0),\n",
       " ('2012-10-25 12', 9, 0.0, 6.0),\n",
       " ('2012-10-25 13', 4, 0.0, 0.0),\n",
       " ('2012-10-25 14', 7, 0.0, 5.0),\n",
       " ('2012-10-25 15', 8, 0.0, 5.0),\n",
       " ('2012-10-25 16', 3, 0.0, 0.0),\n",
       " ('2012-10-25 17', 10, 0.0, 3.0),\n",
       " ('2012-10-25 18', 7, 0.0, 0.0),\n",
       " ('2012-10-25 19', 9, 0.0, 0.0),\n",
       " ('2012-10-25 20', 23, 0.0, 3.0),\n",
       " ('2012-10-25 21', 14, 0.0, 3.0),\n",
       " ('2012-10-25 22', 12, 0.0, 3.0),\n",
       " ('2012-10-25 23', 6, 0.0, 0.0),\n",
       " ('2012-10-26 00', 18, 0.0, 0.0),\n",
       " ('2012-10-26 01', 5, 0.0, 0.0),\n",
       " ('2012-10-26 02', 5, 0.0, 0.0),\n",
       " ('2012-10-26 03', 3, 0.0, 3.0),\n",
       " ('2012-10-26 04', 3, 0.0, 0.0),\n",
       " ('2012-10-26 05', 2, 0.0, 0.0),\n",
       " ('2012-10-26 06', 2, 0.0, 0.0),\n",
       " ('2012-10-26 07', 8, 0.0, 3.0),\n",
       " ('2012-10-26 08', 6, 0.0, 3.0),\n",
       " ('2012-10-26 09', 10, 0.0, 3.0),\n",
       " ('2012-10-26 10', 4, 0.0, 3.0),\n",
       " ('2012-10-26 11', 8, 0.0, 3.0),\n",
       " ('2012-10-26 12', 7, 0.0, 0.0),\n",
       " ('2012-10-26 13', 9, 0.0, 3.0),\n",
       " ('2012-10-26 14', 10, 0.0, 3.0),\n",
       " ('2012-10-26 15', 5, 0.0, 0.0),\n",
       " ('2012-10-26 16', 5, 0.0, 0.0),\n",
       " ('2012-10-26 17', 3, 0.0, 0.0),\n",
       " ('2012-10-26 18', 6, 0.0, 0.0),\n",
       " ('2012-10-26 19', 11, 0.0, 0.0),\n",
       " ('2012-10-26 20', 17, 0.0, 3.0),\n",
       " ('2012-10-26 21', 7, 0.0, 3.0),\n",
       " ('2012-10-26 22', 14, 0.0, 0.0),\n",
       " ('2012-10-26 23', 6, 0.0, 0.0),\n",
       " ('2012-10-27 00', 12, 0.0, 3.0),\n",
       " ('2012-10-27 01', 7, 0.0, 0.0),\n",
       " ('2012-10-27 02', 9, 0.0, 3.0),\n",
       " ('2012-10-27 03', 7, 0.0, 0.0),\n",
       " ('2012-10-27 04', 0, 0.0, 6.0),\n",
       " ('2012-10-27 05', 4, 0.0, 6.0),\n",
       " ('2012-10-27 06', 2, 0.0, 6.0),\n",
       " ('2012-10-27 07', 6, 0.0, 5.0),\n",
       " ('2012-10-27 08', 6, 0.0, 5.0),\n",
       " ('2012-10-27 09', 11, 0.0, 6.0),\n",
       " ('2012-10-27 10', 16, 0.0, 7.0),\n",
       " ('2012-10-27 11', 24, 0.0, 5.0),\n",
       " ('2012-10-27 12', 7, 0.0, 8.0),\n",
       " ('2012-10-27 13', 11, 0.0, 8.0),\n",
       " ('2012-10-27 14', 7, 0.0, 10.0),\n",
       " ('2012-10-27 15', 7, 0.0, 10.0),\n",
       " ('2012-10-27 16', 11, 0.0, 7.0),\n",
       " ('2012-10-27 17', 19, 0.0, 7.0),\n",
       " ('2012-10-27 18', 10, 0.0, 7.0),\n",
       " ('2012-10-27 19', 30, 0.0, 8.0),\n",
       " ('2012-10-27 20', 12, 0.0, 7.0),\n",
       " ('2012-10-27 21', 13, 0.0, 9.0),\n",
       " ('2012-10-27 22', 9, 0.0, 9.0),\n",
       " ('2012-10-27 23', 19, 0.0, 8.0),\n",
       " ('2012-10-28 00', 10, 0.0, 11.0),\n",
       " ('2012-10-28 01', 14, 0.0, 8.0),\n",
       " ('2012-10-28 02', 5, 0.0, 8.0),\n",
       " ('2012-10-28 03', 8, 0.0, 9.0),\n",
       " ('2012-10-28 04', 8, 0.0, 10.0),\n",
       " ('2012-10-28 05', 3, 0.0, 11.0),\n",
       " ('2012-10-28 06', 6, 0.0, 10.0),\n",
       " ('2012-10-28 07', 4, 0.0, 11.0),\n",
       " ('2012-10-28 08', 3, 0.0, 11.0),\n",
       " ('2012-10-28 09', 4, 0.0, 11.0),\n",
       " ('2012-10-28 10', 4, 0.0, 10.0),\n",
       " ('2012-10-28 11', 8, 0.0, 8.0),\n",
       " ('2012-10-28 12', 5, 0.0, 7.0),\n",
       " ('2012-10-28 13', 11, 0.0, 13.0),\n",
       " ('2012-10-28 14', 10, 0.0, 13.0),\n",
       " ('2012-10-28 15', 10, 0.0, 13.0),\n",
       " ('2012-10-28 16', 8, 0.0, 16.0),\n",
       " ('2012-10-28 17', 7, 0.0, 11.0),\n",
       " ('2012-10-28 18', 9, 0.0, 15.0),\n",
       " ('2012-10-28 19', 7, 0.0, 14.0),\n",
       " ('2012-10-28 20', 6, 0.0, 16.0),\n",
       " ('2012-10-28 21', 6, 0.0, 14.0),\n",
       " ('2012-10-28 22', 7, 0.0, 16.0),\n",
       " ('2012-10-28 23', 3, 0.0, 14.0),\n",
       " ('2012-10-29 00', 1, 0.0, 16.0),\n",
       " ('2012-10-29 01', 0, 0.0, 11.0),\n",
       " ('2012-10-29 02', 1, 0.0, 13.0),\n",
       " ('2012-10-29 03', 0, 0.0, 17.0),\n",
       " ('2012-10-29 04', 2, 0.0, 15.0),\n",
       " ('2012-10-29 05', 1, 0.0, 15.0),\n",
       " ('2012-10-29 06', 1, 0.019999999552965164, 16.0),\n",
       " ('2012-10-29 07', 3, 0.019999999552965164, 17.0),\n",
       " ('2012-10-29 08', 5, 0.0, 21.0),\n",
       " ('2012-10-29 09', 2, 0.0, 16.0),\n",
       " ('2012-10-29 11', 12, 0.0, 21.0),\n",
       " ('2012-10-29 12', 20, 0.019999999552965164, 15.0),\n",
       " ('2012-10-29 13', 9, 0.019999999552965164, 24.0),\n",
       " ('2012-10-29 14', 12, 0.029999999329447746, 23.0),\n",
       " ('2012-10-29 15', 10, 0.07000000029802322, 26.0),\n",
       " ('2012-10-29 16', 0, 0.10000000149011612, 23.0),\n",
       " ('2012-10-29 17', 4, 0.03999999910593033, 29.0),\n",
       " ('2012-10-29 18', 8, 0.019999999552965164, 21.0),\n",
       " ('2012-10-29 19', 0, 0.009999999776482582, 25.0),\n",
       " ('2012-10-29 20', 1, 0.0, 17.0),\n",
       " ('2012-10-29 21', 1, 0.0, 15.0),\n",
       " ('2012-10-29 22', 0, 0.019999999552965164, 9.0),\n",
       " ('2012-10-29 23', 0, 0.029999999329447746, 7.0),\n",
       " ('2012-10-30 00', 2, 0.029999999329447746, 13.0),\n",
       " ('2012-10-30 01', 3, 0.0, 13.0),\n",
       " ('2012-10-30 02', 0, 0.029999999329447746, 9.0),\n",
       " ('2012-10-30 03', 0, 0.03999999910593033, 17.0),\n",
       " ('2012-10-30 04', 1, 0.0, 9.0),\n",
       " ('2012-10-30 05', 0, 0.009999999776482582, 7.0),\n",
       " ('2012-10-30 06', 0, 0.009999999776482582, 7.0),\n",
       " ('2012-10-30 07', 0, 0.0, 10.0),\n",
       " ('2012-10-30 08', 0, 0.009999999776482582, 11.0),\n",
       " ('2012-10-30 09', 6, 0.009999999776482582, 15.0),\n",
       " ('2012-10-30 10', 12, 0.019999999552965164, 8.0),\n",
       " ('2012-10-30 11', 4, 0.0, 7.0),\n",
       " ('2012-10-30 12', 8, 0.0, 9.0),\n",
       " ('2012-10-30 13', 9, 0.0, 7.0),\n",
       " ('2012-10-30 16', 12, 0.009999999776482582, 3.0),\n",
       " ('2012-10-30 17', 12, 0.0, 6.0),\n",
       " ('2012-10-30 18', 5, 0.0, 5.0),\n",
       " ('2012-10-30 19', 8, 0.0, 3.0),\n",
       " ('2012-10-30 20', 14, 0.0, 0.0),\n",
       " ('2012-10-30 21', 4, 0.0, 5.0),\n",
       " ('2012-10-30 22', 5, 0.0, 7.0),\n",
       " ('2012-10-30 23', 8, 0.0, 5.0),\n",
       " ('2012-10-31 00', 3, 0.0, 3.0),\n",
       " ('2012-10-31 01', 2, 0.009999999776482582, 5.0),\n",
       " ('2012-10-31 02', 3, 0.0, 0.0),\n",
       " ('2012-10-31 03', 0, 0.0, 8.0),\n",
       " ('2012-10-31 05', 2, 0.0, 0.0),\n",
       " ('2012-10-31 06', 2, 0.0, 6.0),\n",
       " ('2012-10-31 07', 7, 0.0, 8.0),\n",
       " ('2012-10-31 08', 15, 0.0, 6.0),\n",
       " ('2012-10-31 09', 8, 0.0, 6.0),\n",
       " ('2012-10-31 10', 4, 0.0, 5.0),\n",
       " ('2012-10-31 11', 4, 0.0, 5.0),\n",
       " ('2012-10-31 12', 6, 0.0, 9.0),\n",
       " ('2012-10-31 13', 5, 0.0, 6.0),\n",
       " ('2012-10-31 14', 4, 0.0, 5.0),\n",
       " ('2012-10-31 15', 2, 0.0, 3.0),\n",
       " ('2012-10-31 16', 2, 0.0, 5.0),\n",
       " ('2012-10-31 17', 4, 0.0, 5.0),\n",
       " ('2012-10-31 18', 12, 0.0, 3.0),\n",
       " ('2012-10-31 19', 3, 0.0, 9.0),\n",
       " ('2012-10-31 20', 7, 0.0, 7.0),\n",
       " ('2012-10-31 21', 4, 0.0, 7.0),\n",
       " ('2012-10-31 22', 7, 0.0, 6.0),\n",
       " ('2012-10-31 23', 2, 0.0, 3.0),\n",
       " ('2012-11-01 00', 6, 0.0, 3.0),\n",
       " ('2012-11-01 01', 3, 0.0, 3.0),\n",
       " ('2012-11-01 02', 0, 0.0, 3.0),\n",
       " ('2012-11-01 04', 1, 0.0, 7.0),\n",
       " ('2012-11-01 05', 0, 0.0, 6.0),\n",
       " ('2012-11-01 06', 3, 0.0, 13.0),\n",
       " ('2012-11-01 08', 4, 0.0, 7.0),\n",
       " ('2012-11-01 09', 5, 0.0, 3.0),\n",
       " ('2012-11-01 10', 10, 0.0, 6.0),\n",
       " ('2012-11-01 11', 6, 0.0, 6.0),\n",
       " ('2012-11-01 12', 8, 0.0, 11.0),\n",
       " ('2012-11-01 13', 4, 0.0, 8.0),\n",
       " ('2012-11-01 14', 5, 0.0, 8.0),\n",
       " ('2012-11-01 16', 3, 0.0, 5.0),\n",
       " ('2012-11-01 17', 2, 0.0, 5.0),\n",
       " ('2012-11-01 18', 13, 0.0, 9.0),\n",
       " ('2012-11-01 19', 10, 0.0, 3.0),\n",
       " ('2012-11-01 20', 6, 0.0, 5.0),\n",
       " ('2012-11-01 21', 7, 0.0, 8.0),\n",
       " ('2012-11-01 22', 12, 0.0, 5.0),\n",
       " ('2012-11-01 23', 5, 0.0, 0.0),\n",
       " ('2012-11-02 00', 7, 0.0, 5.0),\n",
       " ('2012-11-02 01', 1, 0.0, 7.0),\n",
       " ('2012-11-02 02', 1, 0.0, 3.0),\n",
       " ('2012-11-02 03', 2, 0.0, 3.0),\n",
       " ('2012-11-02 04', 0, 0.0, 5.0),\n",
       " ('2012-11-02 05', 2, 0.0, 5.0),\n",
       " ('2012-11-02 06', 0, 0.0, 6.0),\n",
       " ('2012-11-02 08', 4, 0.0, 5.0),\n",
       " ('2012-11-02 09', 3, 0.0, 7.0),\n",
       " ('2012-11-02 10', 5, 0.0, 9.0),\n",
       " ('2012-11-02 11', 7, 0.0, 7.0),\n",
       " ('2012-11-02 12', 6, 0.0, 7.0),\n",
       " ('2012-11-02 13', 9, 0.0, 6.0),\n",
       " ('2012-11-02 14', 5, 0.0, 6.0),\n",
       " ('2012-11-02 15', 8, 0.0, 5.0),\n",
       " ('2012-11-02 16', 4, 0.0, 11.0),\n",
       " ('2012-11-02 17', 5, 0.0, 8.0),\n",
       " ('2012-11-02 18', 3, 0.0, 9.0),\n",
       " ('2012-11-02 19', 5, 0.0, 7.0),\n",
       " ('2012-11-02 20', 9, 0.0, 9.0),\n",
       " ('2012-11-02 21', 9, 0.0, 7.0),\n",
       " ('2012-11-02 22', 7, 0.0, 8.0),\n",
       " ('2012-11-02 23', 7, 0.0, 8.0),\n",
       " ('2012-11-03 00', 12, 0.0, 7.0),\n",
       " ('2012-11-03 01', 5, 0.0, 7.0),\n",
       " ('2012-11-03 02', 10, 0.0, 7.0),\n",
       " ('2012-11-03 03', 2, 0.0, 7.0),\n",
       " ('2012-11-03 04', 2, 0.0, 8.0),\n",
       " ('2012-11-03 05', 1, 0.0, 8.0),\n",
       " ('2012-11-03 06', 1, 0.0, 7.0),\n",
       " ('2012-11-03 07', 2, 0.0, 6.0),\n",
       " ('2012-11-03 08', 1, 0.0, 10.0),\n",
       " ('2012-11-03 09', 3, 0.0, 13.0),\n",
       " ('2012-11-03 10', 5, 0.0, 6.0),\n",
       " ('2012-11-03 11', 11, 0.0, 13.0),\n",
       " ('2012-11-03 12', 5, 0.0, 13.0),\n",
       " ('2012-11-03 13', 6, 0.0, 8.0),\n",
       " ('2012-11-03 14', 9, 0.0, 8.0),\n",
       " ('2012-11-03 15', 6, 0.0, 7.0),\n",
       " ('2012-11-03 16', 4, 0.0, 10.0),\n",
       " ('2012-11-03 17', 9, 0.0, 9.0),\n",
       " ('2012-11-03 18', 8, 0.0, 9.0),\n",
       " ('2012-11-03 19', 16, 0.0, 13.0),\n",
       " ('2012-11-03 20', 9, 0.0, 10.0),\n",
       " ('2012-11-03 21', 12, 0.0, 9.0),\n",
       " ('2012-11-03 22', 12, 0.0, 0.0),\n",
       " ('2012-11-03 23', 14, 0.0, 7.0),\n",
       " ('2012-11-04 00', 10, 0.0, 9.0),\n",
       " ('2012-11-04 01', 15, 0.0, 7.0),\n",
       " ('2012-11-04 02', 8, 0.0, 7.0),\n",
       " ('2012-11-04 03', 2, 0.0, 7.0),\n",
       " ('2012-11-04 04', 5, 0.0, 8.0),\n",
       " ('2012-11-04 05', 4, 0.0, 6.0),\n",
       " ('2012-11-04 06', 3, 0.0, 6.0),\n",
       " ('2012-11-04 07', 4, 0.0, 3.0),\n",
       " ('2012-11-04 08', 5, 0.0, 7.0),\n",
       " ('2012-11-04 09', 1, 0.0, 9.0),\n",
       " ('2012-11-04 11', 10, 0.0, 6.0),\n",
       " ('2012-11-04 12', 14, 0.0, 8.0),\n",
       " ('2012-11-04 13', 8, 0.0, 8.0),\n",
       " ('2012-11-04 14', 6, 0.0, 7.0),\n",
       " ('2012-11-04 15', 5, 0.0, 7.0),\n",
       " ('2012-11-04 16', 9, 0.0, 5.0),\n",
       " ('2012-11-04 17', 6, 0.0, 5.0),\n",
       " ('2012-11-04 19', 9, 0.0, 7.0),\n",
       " ('2012-11-04 21', 4, 0.0, 7.0),\n",
       " ('2012-11-04 22', 5, 0.0, 6.0),\n",
       " ('2012-11-04 23', 3, 0.0, 5.0),\n",
       " ('2012-11-05 00', 3, 0.0, 0.0),\n",
       " ('2012-11-05 01', 1, 0.0, 5.0),\n",
       " ('2012-11-05 02', 0, 0.0, 3.0),\n",
       " ('2012-11-05 03', 0, 0.0, 7.0),\n",
       " ('2012-11-05 04', 0, 0.0, 3.0),\n",
       " ('2012-11-05 05', 1, 0.0, 6.0),\n",
       " ('2012-11-05 06', 4, 0.0, 8.0),\n",
       " ('2012-11-05 07', 9, 0.0, 6.0),\n",
       " ('2012-11-05 08', 12, 0.0, 7.0),\n",
       " ('2012-11-05 09', 10, 0.0, 3.0),\n",
       " ('2012-11-05 10', 6, 0.0, 3.0),\n",
       " ('2012-11-05 11', 5, 0.0, 3.0),\n",
       " ('2012-11-05 12', 7, 0.0, 5.0),\n",
       " ('2012-11-05 13', 13, 0.0, 3.0),\n",
       " ('2012-11-05 15', 4, 0.0, 8.0),\n",
       " ('2012-11-05 17', 22, 0.0, 5.0),\n",
       " ('2012-11-05 18', 14, 0.0, 5.0),\n",
       " ('2012-11-05 19', 13, 0.0, 0.0),\n",
       " ('2012-11-05 20', 14, 0.0, 3.0),\n",
       " ('2012-11-05 21', 11, 0.0, 7.0),\n",
       " ('2012-11-05 22', 7, 0.0, 6.0),\n",
       " ('2012-11-05 23', 2, 0.0, 9.0),\n",
       " ('2012-11-06 00', 6, 0.0, 6.0),\n",
       " ('2012-11-06 01', 3, 0.0, 5.0),\n",
       " ('2012-11-06 02', 2, 0.0, 8.0),\n",
       " ('2012-11-06 03', 2, 0.0, 10.0),\n",
       " ('2012-11-06 04', 1, 0.0, 6.0),\n",
       " ('2012-11-06 05', 3, 0.0, 5.0),\n",
       " ('2012-11-06 06', 5, 0.0, 7.0),\n",
       " ('2012-11-06 07', 8, 0.0, 7.0),\n",
       " ('2012-11-06 08', 9, 0.0, 8.0),\n",
       " ('2012-11-06 09', 10, 0.0, 3.0),\n",
       " ('2012-11-06 10', 9, 0.0, 6.0),\n",
       " ('2012-11-06 11', 6, 0.0, 7.0),\n",
       " ('2012-11-06 12', 7, 0.0, 5.0),\n",
       " ('2012-11-06 13', 14, 0.0, 0.0),\n",
       " ('2012-11-06 14', 14, 0.0, 6.0),\n",
       " ('2012-11-06 15', 5, 0.0, 6.0),\n",
       " ('2012-11-06 16', 5, 0.0, 5.0),\n",
       " ('2012-11-06 17', 9, 0.0, 5.0),\n",
       " ('2012-11-06 18', 10, 0.0, 3.0),\n",
       " ('2012-11-06 19', 19, 0.0, 3.0),\n",
       " ('2012-11-06 20', 13, 0.0, 7.0),\n",
       " ('2012-11-06 21', 5, 0.0, 7.0),\n",
       " ('2012-11-06 22', 10, 0.0, 7.0),\n",
       " ('2012-11-06 23', 7, 0.0, 3.0)]"
      ]
     },
     "execution_count": 39,
     "metadata": {},
     "output_type": "execute_result"
    }
   ],
   "source": [
    "engine.execute(QUERY_6).fetchall()"
   ]
  },
  {
   "cell_type": "code",
   "execution_count": 40,
   "metadata": {},
   "outputs": [],
   "source": [
    "write_query_to_file(QUERY_6, \"hurricane_sandy.sql\")"
   ]
  },
  {
   "cell_type": "markdown",
   "metadata": {},
   "source": [
    "## Part 4: Visualizing the Data\n",
    "\n"
   ]
  },
  {
   "cell_type": "markdown",
   "metadata": {},
   "source": [
    "### Visualization 1\n",
    "\n",
    "We will create a line chart to show the most popular hour of the day to take a yellow taxi. "
   ]
  },
  {
   "cell_type": "code",
   "execution_count": 41,
   "metadata": {},
   "outputs": [],
   "source": [
    "plt.style.use('ggplot')"
   ]
  },
  {
   "cell_type": "code",
   "execution_count": 42,
   "metadata": {},
   "outputs": [],
   "source": [
    "def popular_hour_taxi(dataframe):\n",
    "    plt.plot(dataframe[['time']].to_numpy().reshape(-1,), dataframe[['count']].to_numpy().reshape(-1,))\n",
    "    plt.xlabel('Hour')\n",
    "    plt.ylabel('Number of Trips')\n",
    "    plt.title(\"Taxi Trips Count per Hour\")\n",
    "    plt.show()"
   ]
  },
  {
   "cell_type": "code",
   "execution_count": 43,
   "metadata": {},
   "outputs": [],
   "source": [
    "def get_data_for_popular_hour_taxi():\n",
    "    \"\"\"Read data from the database.\"\"\"\n",
    "    \n",
    "    df = pd.read_sql_query(QUERY_1, engine).sort_values(by=\"time\", ascending=True)\n",
    "    \n",
    "    return df"
   ]
  },
  {
   "cell_type": "code",
   "execution_count": 44,
   "metadata": {},
   "outputs": [
    {
     "data": {
      "image/png": "[encoded data removed]",
      "text/plain": [
       "<Figure size 432x288 with 1 Axes>"
      ]
     },
     "metadata": {},
     "output_type": "display_data"
    }
   ],
   "source": [
    "df = get_data_for_popular_hour_taxi()\n",
    "popular_hour_taxi(df)"
   ]
  },
  {
   "cell_type": "markdown",
   "metadata": {},
   "source": [
    "### Visualization 2\n",
    "\n",
    "We will create a line chart to display the average distance traveled per month and the 90% confidence interval around the mean. \n"
   ]
  },
  {
   "cell_type": "code",
   "execution_count": 45,
   "metadata": {},
   "outputs": [],
   "source": [
    "def avg_distance_per_month(taxi_df, uber_df):\n",
    "    \"\"\"Make a line chart to display the average distance traveled per month and the 90% confidence interval around the mean\"\"\"\n",
    "    \n",
    "    # change the data type of the year_month column to datetime\n",
    "    format_type = '%Y-%m'\n",
    "    taxi_df['time'] = pd.to_datetime(taxi_df['time'], format=format_type)\n",
    "    uber_df['time'] = pd.to_datetime(uber_df['time'], format=format_type)\n",
    "    \n",
    "    # Calculate the 90% confidence interval of Uber data\n",
    "    uber_df = uber_df['num'].groupby(uber_df['time'].dt.month).agg(['mean', 'count', 'sem'])\n",
    "    uber_df['dof'] = uber_df['count'] - 1\n",
    "    uber_l, uber_h = scipy.stats.t.interval(0.90, uber_df['dof'], loc=uber_df['mean'], scale=uber_df['sem'])\n",
    "    \n",
    "    # Calculate the 90% confidence interval of taxi data\n",
    "    taxi_df = taxi_df['num'].groupby(taxi_df['time'].dt.month).agg(['mean', 'count', 'sem'])\n",
    "    taxi_df['dof'] = taxi_df['count'] - 1\n",
    "    taxi_l, taxi_h = scipy.stats.t.interval(0.90, taxi_df['dof'], loc=taxi_df['mean'], scale=taxi_df['sem'])\n",
    "\n",
    "    # Plot\n",
    "    plt.plot(taxi_df.index, taxi_df['mean'], label='Taxi')\n",
    "    plt.plot(uber_df.index, uber_df['mean'], label='Uber')\n",
    "    plt.fill_between(taxi_df.index, taxi_l, taxi_h, alpha=0.4)\n",
    "    plt.fill_between(uber_df.index, uber_l, uber_h, alpha=0.4)\n",
    "    \n",
    "    plt.title('Average Distance Traveled per Month'); plt.xlabel('Month'); plt.ylabel('Average Distance Traveled'); plt.legend()\n",
    "    plt.show()\n"
   ]
  },
  {
   "cell_type": "code",
   "execution_count": 46,
   "metadata": {},
   "outputs": [],
   "source": [
    "def get_data_for_avg_distance_per_month():\n",
    "    \"\"\"Read data from the database.\"\"\"\n",
    "    \n",
    "    taxi_query=\"\"\"\n",
    "        SELECT strftime('%Y-%m', pickup_datetime) AS time, SUM(distance) AS num\n",
    "        FROM taxi_trips\n",
    "        GROUP BY time\n",
    "    \"\"\"\n",
    "\n",
    "    uber_query=\"\"\"\n",
    "        SELECT strftime('%Y-%m', pickup_datetime) AS time, SUM(distance) AS num\n",
    "        FROM uber_trips\n",
    "        GROUP BY time\n",
    "    \"\"\"\n",
    "    \n",
    "    # get the data from the database\n",
    "    taxi_df = pd.read_sql_query(taxi_query, engine)\n",
    "    uber_df = pd.read_sql_query(uber_query, engine)\n",
    "    return taxi_df, uber_df"
   ]
  },
  {
   "cell_type": "code",
   "execution_count": 47,
   "metadata": {},
   "outputs": [
    {
     "data": {
      "image/png": "[encoded data removed]",
      "text/plain": [
       "<Figure size 432x288 with 1 Axes>"
      ]
     },
     "metadata": {},
     "output_type": "display_data"
    }
   ],
   "source": [
    "taxi_df, uber_df = get_data_for_avg_distance_per_month()\n",
    "avg_distance_per_month(taxi_df, uber_df)"
   ]
  },
  {
   "cell_type": "markdown",
   "metadata": {},
   "source": [
    "### Visualization 3\n",
    "\n",
    "We define three lat/long coordinate boxes around the three major New York airports: LGA, JFK, and EWR and create a bar chart that compares what day of the week was most popular for drop offs for each airport. In the bar chart, each color represents a type of coordinate boxes."
   ]
  },
  {
   "cell_type": "code",
   "execution_count": 48,
   "metadata": {},
   "outputs": [],
   "source": [
    "def dropoff_num_per_day(dfs):\n",
    "    \"\"\"Make a bar plot to show the number of dropoffs per day.\"\"\"\n",
    "    \n",
    "    names = ['LGA','JFK','EWR']\n",
    "    x = dfs[0][['day']].to_numpy().reshape(-1,)\n",
    "    y = [dfs[i][[num]].to_numpy().reshape(-1,) for i, num in enumerate(names)]\n",
    "    for i in range(3):\n",
    "        plt.bar(x, y[i])\n",
    "    plt.xlabel('Day')\n",
    "    plt.ylabel('Number of Dropoffs')\n",
    "    plt.title(\"Number of Dropoffs Per Day for Every Airport\")\n",
    "    plt.legend(names)\n",
    "    plt.show()"
   ]
  },
  {
   "cell_type": "code",
   "execution_count": 49,
   "metadata": {},
   "outputs": [],
   "source": [
    "def get_data_for_dropoff_num_per_day():\n",
    "    \"\"\"Read data from the database.\"\"\"\n",
    "\n",
    "    dfs = []\n",
    "    for BBOX in [LGA_BBOX, JFK_BBOX, EWR_BBOX]:\n",
    "        query = f\"\"\"\n",
    "            WITH hired_trips AS (SELECT pickup_datetime,dropoff_longitude,dropoff_latitude\n",
    "            FROM taxi_trips UNION ALL\n",
    "            SELECT pickup_datetime,dropoff_longitude,dropoff_latitude FROM uber_trips)\n",
    "            SELECT strftime('%w', pickup_datetime) AS day ,COUNT(*) AS {BBOX[4]}\n",
    "            FROM hired_trips\n",
    "            WHERE dropoff_longitude BETWEEN {BBOX[0]} AND {BBOX[2]} AND dropoff_latitude BETWEEN {BBOX[1]} AND {BBOX[3]}\n",
    "            GROUP BY day\n",
    "        \"\"\"\n",
    "        dfs.append(pd.read_sql_query(query, engine))\n",
    "    return dfs"
   ]
  },
  {
   "cell_type": "code",
   "execution_count": 50,
   "metadata": {},
   "outputs": [
    {
     "data": {
      "image/png": "[encoded data removed]",
      "text/plain": [
       "<Figure size 432x288 with 1 Axes>"
      ]
     },
     "metadata": {},
     "output_type": "display_data"
    }
   ],
   "source": [
    "dfs = get_data_for_dropoff_num_per_day()\n",
    "dropoff_num_per_day(dfs)"
   ]
  },
  {
   "cell_type": "markdown",
   "metadata": {},
   "source": [
    "### Visualization 4\n",
    "\n",
    "Create a heatmap of all hired trips over a map of the area. This can show us which places are more popular."
   ]
  },
  {
   "cell_type": "code",
   "execution_count": 51,
   "metadata": {},
   "outputs": [],
   "source": [
    "def heatmap_of_trips(df):\n",
    "    \"\"\"Make a heatmap of all hired trips over a map of the area.\"\"\"\n",
    "    # Reindex\n",
    "    location = Taxi_zones.reset_index()\n",
    "\n",
    "    # Merge two dataframes\n",
    "    location['square'] = location['latitude']**2 +  location['longitude']**2\n",
    "    location = location.sort_values(by='square')\n",
    "    df['square'] = df['latitude']**2 +  df['longitude']**2\n",
    "    df = df.sort_values(by='square')\n",
    "    df = pd.merge_asof(df, location, left_on=['square'], right_on=['square'])\n",
    "    \n",
    "    # Remove invalid records\n",
    "    df.dropna(subset=['LocationID'], inplace=True)\n",
    "\n",
    "    location['num'] = df.groupby('LocationID').count()['square']\n",
    "    \n",
    "    location.plot(column='num', cmap='tab20c', legend=True, markersize = 10)\n",
    "    \n",
    "    plt.show()\n",
    "    \n",
    "    return location"
   ]
  },
  {
   "cell_type": "code",
   "execution_count": 52,
   "metadata": {},
   "outputs": [],
   "source": [
    "def get_data_for_heatmap_of_trips():\n",
    "    \"\"\"Read data from the database\"\"\"\n",
    "    \n",
    "    query = \"\"\"\n",
    "        WITH hired_trips AS (SELECT pickup_latitude AS latitude, pickup_longitude AS longitude\n",
    "        FROM taxi_trips UNION ALL\n",
    "        SELECT pickup_latitude AS latitude, pickup_longitude AS longitude FROM uber_trips)\n",
    "        SELECT latitude, longitude\n",
    "        FROM hired_trips\n",
    "    \"\"\"\n",
    "    \n",
    "    df = pd.read_sql_query(query, engine)\n",
    "    \n",
    "    return df"
   ]
  },
  {
   "cell_type": "code",
   "execution_count": 53,
   "metadata": {},
   "outputs": [
    {
     "data": {
      "image/png": "[encoded data removed]",
      "text/plain": [
       "<Figure size 432x288 with 2 Axes>"
      ]
     },
     "metadata": {},
     "output_type": "display_data"
    }
   ],
   "source": [
    "df = get_data_for_heatmap_of_trips()\n",
    "location = heatmap_of_trips(df)"
   ]
  },
  {
   "cell_type": "code",
   "execution_count": 54,
   "metadata": {},
   "outputs": [
    {
     "name": "stdout",
     "output_type": "stream",
     "text": [
      "User Guide: https://docs.kepler.gl/docs/keplergl-jupyter\n"
     ]
    },
    {
     "data": {
      "application/vnd.jupyter.widget-view+json": {
       "model_id": "9adf5aae884d48e98e3430de24da89d1",
       "version_major": 2,
       "version_minor": 0
      },
      "text/plain": [
       "KeplerGl(data={'NYC':      index  OBJECTID  Shape_Leng  Shape_Area                     zone  \\\n",
       "85      85     …"
      ]
     },
     "metadata": {},
     "output_type": "display_data"
    }
   ],
   "source": [
    "# use Kepler to make a heatmap\n",
    "map = KeplerGl(height=500,data={'NYC':location})\n",
    "map"
   ]
  },
  {
   "cell_type": "markdown",
   "metadata": {},
   "source": [
    "### Visualization 5\n",
    "\n",
    "We create a scatter plot that compares tip amount versus distance for Yellow Taxi rides. "
   ]
  },
  {
   "cell_type": "code",
   "execution_count": 55,
   "metadata": {},
   "outputs": [],
   "source": [
    "# use a more descriptive name for your function\n",
    "def tip_amount_vs_distance(df):\n",
    "    \"\"\"Make a scatter plot to compare tip amount and the distance\"\"\"\n",
    "    \n",
    "    # Remove outlier\n",
    "    df = df[(df['distance'] < 50) & (df['tip_amount'] > 0)]\n",
    "    plt.scatter(df[['distance']].to_numpy().reshape(-1,), df[['tip_amount']].to_numpy().reshape(-1,), alpha=0.3)\n",
    "    plt.xlabel('Distance')\n",
    "    plt.ylabel('Tip Amount')\n",
    "    plt.title(\"Tip Amount vs Distance\")\n",
    "    plt.show()\n"
   ]
  },
  {
   "cell_type": "code",
   "execution_count": 56,
   "metadata": {},
   "outputs": [],
   "source": [
    "def get_data_for_tip_amount_vs_distance():\n",
    "    \"\"\"Read data from the database\"\"\"\n",
    "    \n",
    "    query = \"\"\"\n",
    "        SELECT tip_amount, distance\n",
    "        FROM taxi_trips\n",
    "    \"\"\"\n",
    "    df = pd.read_sql_query(query, engine)\n",
    "    \n",
    "    return df"
   ]
  },
  {
   "cell_type": "code",
   "execution_count": 57,
   "metadata": {},
   "outputs": [
    {
     "data": {
      "image/png": "[encoded data removed]",
      "text/plain": [
       "<Figure size 432x288 with 1 Axes>"
      ]
     },
     "metadata": {},
     "output_type": "display_data"
    }
   ],
   "source": [
    "df = get_data_for_tip_amount_vs_distance()\n",
    "tip_amount_vs_distance(df)"
   ]
  },
  {
   "cell_type": "markdown",
   "metadata": {},
   "source": [
    "### Visualization 6\n",
    "\n",
    "We create another scatter plot that compares tip amount versus precipitation amount for Yellow Taxi rides. "
   ]
  },
  {
   "cell_type": "code",
   "execution_count": 58,
   "metadata": {},
   "outputs": [],
   "source": [
    "def tip_amount_vs_precipitation(df):\n",
    "    \"\"\"Make a scatter plot to compare tip amount and the precipitation\"\"\"\n",
    "\n",
    "    plt.scatter(df[['HourlyPrecipitation']].to_numpy().reshape(-1,), df[['tip_amount']].to_numpy().reshape(-1,), color='pink')\n",
    "    plt.xlabel('Precipitation')\n",
    "    plt.ylabel('Tip Amount')\n",
    "    plt.title(\"Tip Amount vs Precipitation\")\n",
    "    plt.show()"
   ]
  },
  {
   "cell_type": "code",
   "execution_count": 59,
   "metadata": {},
   "outputs": [],
   "source": [
    "def get_data_for_tip_amount_vs_precipitation():\n",
    "    \"\"\"Read data from the database\"\"\"\n",
    "    \n",
    "    query1 = \"\"\"\n",
    "        SELECT strftime('%Y-%m-%d %H', pickup_datetime) AS date, tip_amount\n",
    "        FROM taxi_trips\n",
    "    \"\"\" \n",
    "    query2 = \"\"\"\n",
    "        SELECT strftime('%Y-%m-%d %H', DATE) AS date, HourlyPrecipitation\n",
    "        FROM hourly_weather\n",
    "    \"\"\"\n",
    "    taxi_data = pd.read_sql_query(query1, engine)\n",
    "    weather_data = pd.read_sql_query(query2, engine)\n",
    "    df = pd.merge(taxi_data, weather_data, on='date')\n",
    "    \n",
    "    df = df[(df['HourlyPrecipitation'] > 0) & (df['tip_amount'] < 50)]\n",
    "    \n",
    "    return df"
   ]
  },
  {
   "cell_type": "code",
   "execution_count": 60,
   "metadata": {},
   "outputs": [
    {
     "data": {
      "image/png": "[encoded data removed]",
      "text/plain": [
       "<Figure size 432x288 with 1 Axes>"
      ]
     },
     "metadata": {},
     "output_type": "display_data"
    }
   ],
   "source": [
    "df = get_data_for_tip_amount_vs_precipitation()\n",
    "tip_amount_vs_precipitation(df)"
   ]
  }
 ],
 "metadata": {
  "kernelspec": {
   "display_name": "Python 3",
   "language": "python",
   "name": "python3"
  },
  "language_info": {
   "codemirror_mode": {
    "name": "ipython",
    "version": 3
   },
   "file_extension": ".py",
   "mimetype": "text/x-python",
   "name": "python",
   "nbconvert_exporter": "python",
   "pygments_lexer": "ipython3",
   "version": "3.8.3"
  }
 },
 "nbformat": 4,
 "nbformat_minor": 5
}
